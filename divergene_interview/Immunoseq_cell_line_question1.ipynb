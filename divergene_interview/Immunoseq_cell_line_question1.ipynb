{
 "cells": [
  {
   "cell_type": "code",
   "execution_count": 1,
   "id": "d736eb2e",
   "metadata": {},
   "outputs": [],
   "source": [
    "import pandas as pd\n",
    "import time\n",
    "\n",
    "t1_start = time.process_time()"
   ]
  },
  {
   "cell_type": "code",
   "execution_count": 2,
   "id": "1765f312",
   "metadata": {},
   "outputs": [],
   "source": [
    "# import csv from Google Drive\n",
    "url = 'https://drive.google.com/uc?id=1UqwhclZtkAI3UDWaguzNj1VfFGpylDrF'\n",
    "df = pd.read_csv(url)"
   ]
  },
  {
   "cell_type": "code",
   "execution_count": 3,
   "id": "a25832e2",
   "metadata": {},
   "outputs": [],
   "source": [
    "# list of alleles that client wants\n",
    "client_list = ['A*01:01', 'A*02:01', 'A*03:01', 'A*11:01', 'A*23:01', 'A*24:02', 'A*26:01', 'A*29:02', 'A*30:01',\n",
    "               'A*30:02', 'A*31:01', 'A*32:01', 'A*33:03', 'A*68:01', 'A*68:02', 'B*35:01', 'B*07:02', 'B*40:01',\n",
    "               'B*08:01', 'B*44:03', 'B*51:01', 'B*53:01', 'B*44:02', 'B*15:01', 'B*18:01', 'B*58:01', 'B*14:02',\n",
    "               'B*27:05', 'B*15:03', 'B*48:01', 'B*52:01', 'B*42:01', 'B*49:01', 'B*57:01', 'B*13:02', 'B*39:01',\n",
    "               'B*40:02', 'B*58:02', 'B*46:01', 'B*35:03', 'B*57:03', 'B*38:01', 'B*15:10', 'B*50:01', 'B*55:01',\n",
    "               'B*15:02', 'B*37:01', 'B*54:01', 'B*38:02', 'B*45:01', 'B*81:01', 'B*07:05', 'B*14:01', 'B*35:02']"
   ]
  },
  {
   "cell_type": "code",
   "execution_count": 4,
   "id": "5267dad4",
   "metadata": {},
   "outputs": [],
   "source": [
    "# split client_list into separate A and B allele lists\n",
    "A_allele_list = []\n",
    "B_allele_list = []\n",
    "\n",
    "for haplotype in client_list:\n",
    "    locus = haplotype[0]\n",
    "    allele = haplotype[2:]\n",
    "    if locus == 'A':\n",
    "        A_allele_list.append(allele)\n",
    "    elif locus == 'B':\n",
    "        B_allele_list.append(allele)"
   ]
  },
  {
   "cell_type": "code",
   "execution_count": 5,
   "id": "c3989d2c",
   "metadata": {},
   "outputs": [],
   "source": [
    "# create dictionary to record how many matches each cell line in vendor list has with an allele from the client list\n",
    "samples = df.SampleID.unique()\n",
    "match_counts = {}\n",
    "for sample in samples:\n",
    "    match_count = 0\n",
    "    row = df[(df['SampleID'] == sample)].values[0]\n",
    "    for A_allele in A_allele_list:\n",
    "        if A_allele == row[3] or A_allele == row[4]:\n",
    "            match_count += 1\n",
    "    for B_allele in B_allele_list:\n",
    "        if B_allele == row[5] or B_allele == row[6]:\n",
    "            match_count += 1\n",
    "    match_counts[sample] = match_count"
   ]
  },
  {
   "cell_type": "code",
   "execution_count": 6,
   "id": "01f0d360",
   "metadata": {},
   "outputs": [],
   "source": [
    "# create dictionary to record how many times a client list allele is matched in vendor cell lines\n",
    "# dictionary is initialized here with zeros values before searching for matches\n",
    "client_list_matches = {}\n",
    "for haplotype in client_list:\n",
    "    client_list_matches[haplotype] = 0"
   ]
  },
  {
   "cell_type": "code",
   "execution_count": 7,
   "id": "d8d2da37",
   "metadata": {},
   "outputs": [],
   "source": [
    "# full search algorithm v2 - optimized to start by selecting cell lines with higher match counts\n",
    "\n",
    "# this list contains cell lines that satisfy a client list requirement and should be ordered\n",
    "cell_order_list = []\n",
    "\n",
    "i = 4\n",
    "while i > 0:\n",
    "    for cell_line in match_counts:\n",
    "        if match_counts[cell_line] == i:\n",
    "\n",
    "            # we begin iteration with default assumption that sample does not satisfy requirement until proven otherwise\n",
    "            order_sample = False\n",
    "            row = df[(df['SampleID'] == cell_line)].values[0]\n",
    "            A1 = 'A*' + row[3]\n",
    "            A2 = 'A*' + row[4]\n",
    "            B1 = 'B*' + row[5]\n",
    "            B2 = 'B*' + row[6]\n",
    "            row_alleles = [A1, A2, B1, B2]\n",
    "\n",
    "            # determine if this cell line satisfies any client alleles that have not yet been matched\n",
    "            for allele in row_alleles:\n",
    "                if allele in client_list_matches:\n",
    "                    if client_list_matches[allele] == 0:\n",
    "                        order_sample = True\n",
    "\n",
    "            if order_sample:\n",
    "                # print('Order sample: ', cell_line)\n",
    "                cell_order_list.append(cell_line)\n",
    "                for allele in row_alleles:\n",
    "                    if allele in client_list_matches:\n",
    "                        client_list_matches[allele] += 1\n",
    "            else:\n",
    "                continue\n",
    "    i -= 1"
   ]
  },
  {
   "cell_type": "code",
   "execution_count": 8,
   "id": "3d971675",
   "metadata": {},
   "outputs": [
    {
     "name": "stdout",
     "output_type": "stream",
     "text": [
      "Cell lines to order: ['HG01879', 'HG01883', 'HG01889', 'HG01912', 'HG01985', 'HG01988', 'HG02282', 'HG02323', 'HG02325', 'HG02330', 'HG02334', 'HG02339', 'HG02343', 'HG02420', 'HG02429', 'HG02455', 'HG02485', 'HG02501', 'NA19704', 'NA19835', 'NA19904', 'NA19913', 'NA19921', 'NA19982', 'NA20291', 'HG02595', 'HG03259', 'HG01112', 'HG01277', 'HG01390', 'HG01461', 'NA19658', 'HG01566', 'HG00640', 'HG00864', 'HG02164', 'HG02356', 'HG02374']\n",
      "Length of cell order list: 38\n",
      "Elapsed runtime: 2.080177\n"
     ]
    }
   ],
   "source": [
    "print('Cell lines to order:', cell_order_list)\n",
    "print('Length of cell order list:', len(cell_order_list))\n",
    "\n",
    "# return process runtime\n",
    "t1_stop = time.process_time()\n",
    "elapsed_time = t1_stop - t1_start\n",
    "print(\"Elapsed runtime:\", elapsed_time)"
   ]
  }
 ],
 "metadata": {
  "kernelspec": {
   "display_name": "Python 3 (ipykernel)",
   "language": "python",
   "name": "python3"
  },
  "language_info": {
   "codemirror_mode": {
    "name": "ipython",
    "version": 3
   },
   "file_extension": ".py",
   "mimetype": "text/x-python",
   "name": "python",
   "nbconvert_exporter": "python",
   "pygments_lexer": "ipython3",
   "version": "3.9.6"
  }
 },
 "nbformat": 4,
 "nbformat_minor": 5
}
