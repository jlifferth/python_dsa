{
 "cells": [
  {
   "cell_type": "code",
   "execution_count": 3,
   "id": "5956363f",
   "metadata": {},
   "outputs": [],
   "source": [
    "from julia.api import Julia\n",
    "jl = Julia(compiled_modules=False)"
   ]
  },
  {
   "cell_type": "code",
   "execution_count": 4,
   "id": "0d4d434f",
   "metadata": {},
   "outputs": [
    {
     "name": "stdout",
     "output_type": "stream",
     "text": [
      "Initializing Julia interpreter. This may take some time...\n"
     ]
    }
   ],
   "source": [
    "%load_ext julia.magic"
   ]
  },
  {
   "cell_type": "code",
   "execution_count": 5,
   "id": "a3351607",
   "metadata": {},
   "outputs": [
    {
     "name": "stdout",
     "output_type": "stream",
     "text": [
      "Machine Learning - Statistics\n",
      "Machine Learning - Julia Programming\n",
      "Machine Learning - Domain Knowledge\n",
      "Artificial Intelligence - Statistics\n",
      "Artificial Intelligence - Julia Programming\n",
      "Artificial Intelligence - Domain Knowledge\n",
      "Deep Learning - Statistics\n",
      "Deep Learning - Julia Programming\n",
      "Deep Learning - Domain Knowledge\n"
     ]
    }
   ],
   "source": [
    "%%julia\n",
    "array1 = [\"Machine Learning\", \"Artificial Intelligence\", \"Deep Learning\"]\n",
    "array2 = [\"Statistics\", \"Julia Programming\", \"Domain Knowledge\"]\n",
    "\n",
    "for i in array1\n",
    "    for j in array2\n",
    "        println(i,\" - \",j)\n",
    "    end\n",
    "end\n",
    "\n"
   ]
  },
  {
   "cell_type": "code",
   "execution_count": 7,
   "id": "5a08fdfe",
   "metadata": {},
   "outputs": [],
   "source": [
    "arr = [1,2,3]"
   ]
  },
  {
   "cell_type": "code",
   "execution_count": 8,
   "id": "151fbacd",
   "metadata": {},
   "outputs": [
    {
     "data": {
      "text/plain": [
       "array([2, 3, 4], dtype=int64)"
      ]
     },
     "execution_count": 8,
     "metadata": {},
     "output_type": "execute_result"
    }
   ],
   "source": [
    "%julia $arr .+ 1"
   ]
  },
  {
   "cell_type": "code",
   "execution_count": 9,
   "id": "e52f82ec",
   "metadata": {},
   "outputs": [
    {
     "name": "stderr",
     "output_type": "stream",
     "text": [
      "┌ Warning: `vendor()` is deprecated, use `BLAS.get_config()` and inspect the output instead\n",
      "│   caller = npyinitialize() at numpy.jl:67\n",
      "└ @ PyCall ~/.julia/packages/PyCall/L0fLP/src/numpy.jl:67\n"
     ]
    },
    {
     "name": "stdout",
     "output_type": "stream",
     "text": [
      "0\n",
      "2\n",
      "3\n"
     ]
    }
   ],
   "source": [
    "%julia println(count([false, false, false]))\n",
    "%julia println(count([true, false, true]))\n",
    "%julia println(count([true, true, true]))"
   ]
  },
  {
   "cell_type": "code",
   "execution_count": 10,
   "id": "149de98a",
   "metadata": {},
   "outputs": [
    {
     "name": "stdout",
     "output_type": "stream",
     "text": [
      "List Iteration\n",
      "[\"geeks\", \"for\", \"geeks\"]\n"
     ]
    }
   ],
   "source": [
    "%julia print(\"List Iteration\\n\") \n",
    "%julia l = [\"geeks\", \"for\", \"geeks\"]\n",
    "%julia println(l)\n",
    "# %julia for i in l\n",
    "# %julia    println(i) \n",
    "# %julia end"
   ]
  },
  {
   "cell_type": "code",
   "execution_count": 12,
   "id": "3bdab418",
   "metadata": {},
   "outputs": [],
   "source": [
    "import gzip\n",
    "from mimetypes import guess_type\n",
    "from functools import partial\n",
    "from Bio import SeqIO\n",
    "from datetime import datetime"
   ]
  },
  {
   "cell_type": "code",
   "execution_count": 54,
   "id": "5c0a2fcf",
   "metadata": {},
   "outputs": [
    {
     "name": "stdout",
     "output_type": "stream",
     "text": [
      "173019\n",
      "Elapsed:  0:00:03.811306\n"
     ]
    }
   ],
   "source": [
    "# compare python vs julia for IO\n",
    "start_py = datetime.now()\n",
    "\n",
    "input_file = '/Users/jonathanlifferth/data/bioinformatics/Divergene/question2/liver cDNA/1153-cDNA-8V8_S30_L001_R1_001.fastq.gz'\n",
    "\n",
    "encoding = guess_type(input_file)[1]  # uses file extension\n",
    "_open = partial(gzip.open, mode='rt') if encoding == 'gzip' else open\n",
    "\n",
    "read_count = 0\n",
    "with _open(input_file) as f:\n",
    "    records = SeqIO.parse(f, 'fastq')\n",
    "    for record in records:\n",
    "        read_count += 1\n",
    "\n",
    "elapsed = datetime.now() - start_py\n",
    "print(read_count)\n",
    "print('Elapsed: ', elapsed)"
   ]
  },
  {
   "cell_type": "code",
   "execution_count": 38,
   "id": "6a1ecde8",
   "metadata": {},
   "outputs": [
    {
     "name": "stdout",
     "output_type": "stream",
     "text": [
      "this is a function\n"
     ]
    }
   ],
   "source": [
    "%%julia\n",
    "function fn()\n",
    "    println(\"this is a function\")\n",
    "end\n",
    "\n",
    "fn()"
   ]
  },
  {
   "cell_type": "code",
   "execution_count": 42,
   "id": "02f32b60",
   "metadata": {},
   "outputs": [
    {
     "data": {
      "text/plain": [
       "<PyCall.jlwrap count_items_jl>"
      ]
     },
     "execution_count": 42,
     "metadata": {},
     "output_type": "execute_result"
    }
   ],
   "source": [
    "%%julia\n",
    "function count_items_jl(list_in)\n",
    "    count = 0\n",
    "    for item in list_in\n",
    "        count += 1\n",
    "    end\n",
    "    return count\n",
    "end"
   ]
  },
  {
   "cell_type": "code",
   "execution_count": 49,
   "id": "335ee8bb",
   "metadata": {},
   "outputs": [
    {
     "data": {
      "text/plain": [
       "4"
      ]
     },
     "execution_count": 49,
     "metadata": {},
     "output_type": "execute_result"
    }
   ],
   "source": [
    "%%julia\n",
    "arr = [1,2,3,4]\n",
    "count_out = count_items_jl(arr);\n",
    "# count_out"
   ]
  },
  {
   "cell_type": "code",
   "execution_count": 29,
   "id": "9c1e26d7",
   "metadata": {},
   "outputs": [
    {
     "data": {
      "text/plain": [
       "2"
      ]
     },
     "execution_count": 29,
     "metadata": {},
     "output_type": "execute_result"
    }
   ],
   "source": [
    "%%julia\n",
    "f(1,1)"
   ]
  },
  {
   "cell_type": "code",
   "execution_count": 59,
   "id": "2aec4ceb",
   "metadata": {},
   "outputs": [
    {
     "name": "stdout",
     "output_type": "stream",
     "text": [
      "1\n",
      "2\n",
      "3\n",
      "4\n"
     ]
    }
   ],
   "source": [
    "%%julia\n",
    "arr = [1,2,3,4]\n",
    "for item in arr\n",
    "    println(item)\n",
    "end"
   ]
  },
  {
   "cell_type": "code",
   "execution_count": 30,
   "id": "84209b20",
   "metadata": {},
   "outputs": [],
   "source": [
    "def count_items_py(list_in):\n",
    "    count = 0\n",
    "    for item in list_in:\n",
    "        count += 1\n",
    "    return count"
   ]
  },
  {
   "cell_type": "code",
   "execution_count": 92,
   "id": "134574e1",
   "metadata": {},
   "outputs": [
    {
     "ename": "ValueError",
     "evalue": "I/O operation on closed file.",
     "output_type": "error",
     "traceback": [
      "\u001b[0;31m---------------------------------------------------------------------------\u001b[0m",
      "\u001b[0;31mTypeError\u001b[0m                                 Traceback (most recent call last)",
      "File \u001b[0;32m~/opt/anaconda3/lib/python3.8/site-packages/Bio/SeqIO/QualityIO.py:918\u001b[0m, in \u001b[0;36mFastqGeneralIterator\u001b[0;34m(source)\u001b[0m\n\u001b[1;32m    917\u001b[0m \u001b[38;5;28;01mtry\u001b[39;00m:\n\u001b[0;32m--> 918\u001b[0m     handle \u001b[38;5;241m=\u001b[39m \u001b[38;5;28;43mopen\u001b[39;49m\u001b[43m(\u001b[49m\u001b[43msource\u001b[49m\u001b[43m)\u001b[49m\n\u001b[1;32m    919\u001b[0m \u001b[38;5;28;01mexcept\u001b[39;00m \u001b[38;5;167;01mTypeError\u001b[39;00m:\n",
      "\u001b[0;31mTypeError\u001b[0m: expected str, bytes or os.PathLike object, not _io.TextIOWrapper",
      "\nDuring handling of the above exception, another exception occurred:\n",
      "\u001b[0;31mValueError\u001b[0m                                Traceback (most recent call last)",
      "Input \u001b[0;32mIn [92]\u001b[0m, in \u001b[0;36m<module>\u001b[0;34m\u001b[0m\n\u001b[1;32m     11\u001b[0m \u001b[38;5;66;03m# %julia    println(count_items_jl(py\"records\"))\u001b[39;00m\n\u001b[1;32m     13\u001b[0m read_count \u001b[38;5;241m=\u001b[39m \u001b[38;5;241m0\u001b[39m\n\u001b[0;32m---> 14\u001b[0m \u001b[38;5;28;01mfor\u001b[39;00m record \u001b[38;5;129;01min\u001b[39;00m records[\u001b[38;5;241m0\u001b[39m]:\n\u001b[1;32m     15\u001b[0m     read_count \u001b[38;5;241m+\u001b[39m\u001b[38;5;241m=\u001b[39m \u001b[38;5;241m1\u001b[39m\n\u001b[1;32m     17\u001b[0m elapsed \u001b[38;5;241m=\u001b[39m datetime\u001b[38;5;241m.\u001b[39mnow() \u001b[38;5;241m-\u001b[39m start_py\n",
      "File \u001b[0;32m~/opt/anaconda3/lib/python3.8/site-packages/Bio/SeqIO/Interfaces.py:74\u001b[0m, in \u001b[0;36mSequenceIterator.__next__\u001b[0;34m(self)\u001b[0m\n\u001b[1;32m     72\u001b[0m \u001b[38;5;28;01mdef\u001b[39;00m \u001b[38;5;21m__next__\u001b[39m(\u001b[38;5;28mself\u001b[39m):\n\u001b[1;32m     73\u001b[0m     \u001b[38;5;28;01mtry\u001b[39;00m:\n\u001b[0;32m---> 74\u001b[0m         \u001b[38;5;28;01mreturn\u001b[39;00m \u001b[38;5;28;43mnext\u001b[39;49m\u001b[43m(\u001b[49m\u001b[38;5;28;43mself\u001b[39;49m\u001b[38;5;241;43m.\u001b[39;49m\u001b[43mrecords\u001b[49m\u001b[43m)\u001b[49m\n\u001b[1;32m     75\u001b[0m     \u001b[38;5;28;01mexcept\u001b[39;00m \u001b[38;5;167;01mException\u001b[39;00m:\n\u001b[1;32m     76\u001b[0m         \u001b[38;5;28;01mif\u001b[39;00m \u001b[38;5;28mself\u001b[39m\u001b[38;5;241m.\u001b[39mshould_close_stream:\n",
      "File \u001b[0;32m~/opt/anaconda3/lib/python3.8/site-packages/Bio/SeqIO/QualityIO.py:1085\u001b[0m, in \u001b[0;36mFastqPhredIterator.iterate\u001b[0;34m(self, handle)\u001b[0m\n\u001b[1;32m   1075\u001b[0m \u001b[38;5;66;03m# Originally, I used a list expression for each record:\u001b[39;00m\n\u001b[1;32m   1076\u001b[0m \u001b[38;5;66;03m#\u001b[39;00m\n\u001b[1;32m   1077\u001b[0m \u001b[38;5;66;03m# qualities = [ord(letter)-SANGER_SCORE_OFFSET for letter in quality_string]\u001b[39;00m\n\u001b[1;32m   1078\u001b[0m \u001b[38;5;66;03m#\u001b[39;00m\n\u001b[1;32m   1079\u001b[0m \u001b[38;5;66;03m# Precomputing is faster, perhaps partly by avoiding the subtractions.\u001b[39;00m\n\u001b[1;32m   1080\u001b[0m q_mapping \u001b[38;5;241m=\u001b[39m {\n\u001b[1;32m   1081\u001b[0m     \u001b[38;5;28mchr\u001b[39m(letter): letter \u001b[38;5;241m-\u001b[39m SANGER_SCORE_OFFSET\n\u001b[1;32m   1082\u001b[0m     \u001b[38;5;28;01mfor\u001b[39;00m letter \u001b[38;5;129;01min\u001b[39;00m \u001b[38;5;28mrange\u001b[39m(SANGER_SCORE_OFFSET, \u001b[38;5;241m94\u001b[39m \u001b[38;5;241m+\u001b[39m SANGER_SCORE_OFFSET)\n\u001b[1;32m   1083\u001b[0m }\n\u001b[0;32m-> 1085\u001b[0m \u001b[38;5;28;01mfor\u001b[39;00m title_line, seq_string, quality_string \u001b[38;5;129;01min\u001b[39;00m FastqGeneralIterator(handle):\n\u001b[1;32m   1086\u001b[0m     \u001b[38;5;28;01mif\u001b[39;00m title2ids:\n\u001b[1;32m   1087\u001b[0m         \u001b[38;5;28mid\u001b[39m, name, descr \u001b[38;5;241m=\u001b[39m title2ids(title_line)\n",
      "File \u001b[0;32m~/opt/anaconda3/lib/python3.8/site-packages/Bio/SeqIO/QualityIO.py:921\u001b[0m, in \u001b[0;36mFastqGeneralIterator\u001b[0;34m(source)\u001b[0m\n\u001b[1;32m    919\u001b[0m \u001b[38;5;28;01mexcept\u001b[39;00m \u001b[38;5;167;01mTypeError\u001b[39;00m:\n\u001b[1;32m    920\u001b[0m     handle \u001b[38;5;241m=\u001b[39m source\n\u001b[0;32m--> 921\u001b[0m     \u001b[38;5;28;01mif\u001b[39;00m \u001b[43mhandle\u001b[49m\u001b[38;5;241;43m.\u001b[39;49m\u001b[43mread\u001b[49m\u001b[43m(\u001b[49m\u001b[38;5;241;43m0\u001b[39;49m\u001b[43m)\u001b[49m \u001b[38;5;241m!=\u001b[39m \u001b[38;5;124m\"\u001b[39m\u001b[38;5;124m\"\u001b[39m:\n\u001b[1;32m    922\u001b[0m         \u001b[38;5;28;01mraise\u001b[39;00m StreamModeError(\u001b[38;5;124m\"\u001b[39m\u001b[38;5;124mFastq files must be opened in text mode\u001b[39m\u001b[38;5;124m\"\u001b[39m) \u001b[38;5;28;01mfrom\u001b[39;00m \u001b[38;5;28mNone\u001b[39m\n\u001b[1;32m    923\u001b[0m \u001b[38;5;28;01mtry\u001b[39;00m:\n",
      "\u001b[0;31mValueError\u001b[0m: I/O operation on closed file."
     ]
    }
   ],
   "source": [
    "start_py = datetime.now()\n",
    "\n",
    "input_file = '/Users/jonathanlifferth/data/bioinformatics/Divergene/question2/liver cDNA/1153-cDNA-8V8_S30_L001_R1_001.fastq.gz'\n",
    "\n",
    "encoding = guess_type(input_file)[1]  # uses file extension\n",
    "_open = partial(gzip.open, mode='rt') if encoding == 'gzip' else open\n",
    "\n",
    "records = []\n",
    "with _open(input_file) as f:\n",
    "    records.append(SeqIO.parse(f, 'fastq'))\n",
    "# %julia    println(count_items_jl(py\"records\"))\n",
    "\n",
    "read_count = 0\n",
    "for record in records[0]:\n",
    "    read_count += 1\n",
    "\n",
    "elapsed = datetime.now() - start_py\n",
    "print(read_count)\n",
    "print(type(records[0]))\n",
    "print('Elapsed: ', elapsed)"
   ]
  },
  {
   "cell_type": "code",
   "execution_count": null,
   "id": "4afd07fc",
   "metadata": {},
   "outputs": [],
   "source": []
  }
 ],
 "metadata": {
  "kernelspec": {
   "display_name": "Python 3 (ipykernel)",
   "language": "python",
   "name": "python3"
  },
  "language_info": {
   "codemirror_mode": {
    "name": "ipython",
    "version": 3
   },
   "file_extension": ".py",
   "mimetype": "text/x-python",
   "name": "python",
   "nbconvert_exporter": "python",
   "pygments_lexer": "ipython3",
   "version": "3.8.8"
  }
 },
 "nbformat": 4,
 "nbformat_minor": 5
}
