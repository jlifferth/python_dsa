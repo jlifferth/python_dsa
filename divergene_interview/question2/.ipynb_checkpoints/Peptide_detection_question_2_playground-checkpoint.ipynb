{
 "cells": [
  {
   "cell_type": "code",
   "execution_count": 1,
   "id": "f0572f18",
   "metadata": {},
   "outputs": [],
   "source": [
    "import gzip\n",
    "from mimetypes import guess_type\n",
    "from functools import partial\n",
    "from Bio import SeqIO"
   ]
  },
  {
   "cell_type": "code",
   "execution_count": null,
   "id": "c12a73c7",
   "metadata": {},
   "outputs": [],
   "source": []
  },
  {
   "cell_type": "code",
   "execution_count": 3,
   "id": "82377651",
   "metadata": {},
   "outputs": [],
   "source": [
    "url = 'https://drive.google.com/file/d/1pkChTXXfnfXEMggDREeXqwK_MDU9o_Xm/view?usp=sharing'\n",
    "url = 'https://drive.google.com/uc?id=1pkChTXXfnfXEMggDREeXqwK_MDU9o_Xm'"
   ]
  },
  {
   "cell_type": "code",
   "execution_count": 4,
   "id": "5be49e02",
   "metadata": {},
   "outputs": [
    {
     "data": {
      "text/plain": [
       "1"
      ]
     },
     "execution_count": 4,
     "metadata": {},
     "output_type": "execute_result"
    }
   ],
   "source": [
    "df = pd.read_csv(url)\n",
    "len(df)"
   ]
  },
  {
   "cell_type": "code",
   "execution_count": 5,
   "id": "ca0a67e8",
   "metadata": {},
   "outputs": [
    {
     "data": {
      "text/html": [
       "<div>\n",
       "<style scoped>\n",
       "    .dataframe tbody tr th:only-of-type {\n",
       "        vertical-align: middle;\n",
       "    }\n",
       "\n",
       "    .dataframe tbody tr th {\n",
       "        vertical-align: top;\n",
       "    }\n",
       "\n",
       "    .dataframe thead th {\n",
       "        text-align: right;\n",
       "    }\n",
       "</style>\n",
       "<table border=\"1\" class=\"dataframe\">\n",
       "  <thead>\n",
       "    <tr style=\"text-align: right;\">\n",
       "      <th></th>\n",
       "      <th>&lt;!DOCTYPE html&gt;&lt;html&gt;&lt;head&gt;&lt;title&gt;Google Drive - Virus scan warning&lt;/title&gt;&lt;meta http-equiv=\"content-type\" content=\"text/html; charset=utf-8\"/&gt;&lt;link href=&amp;#47;static&amp;#47;doclist&amp;#47;client&amp;#47;css&amp;#47;2989729367&amp;#45;untrustedcontent.css rel=\"stylesheet\" nonce=\"ipAnyhpeZlKX6k4A7E9L0g\"&gt;&lt;link rel=\"icon\" href=\"//ssl.gstatic.com/images/branding/product/1x/drive_2020q4_32dp.png\"/&gt;&lt;style nonce=\"ipAnyhpeZlKX6k4A7E9L0g\"&gt;#gbar</th>\n",
       "      <th>#guser{font-size:13px;padding-top:0px !important;}#gbar{height:22px}#guser{padding-bottom:7px !important;text-align:right}.gbh</th>\n",
       "      <th>.gbd{border-top:1px solid #c9d7f1;font-size:1px}.gbh{height:0;position:absolute;top:24px;width:100%}@media all{.gb1{height:22px;margin-right:.5em;vertical-align:top}#gbar{float:left}}a.gb1</th>\n",
       "      <th>a.gb4{text-decoration:underline !important}a.gb1</th>\n",
       "      <th>a.gb4{color:#00c !important}.gbi .gb4{color:#dd8e27 !important}.gbf .gb4{color:#900 !important}</th>\n",
       "    </tr>\n",
       "  </thead>\n",
       "  <tbody>\n",
       "    <tr>\n",
       "      <th>0</th>\n",
       "      <td>&lt;/style&gt;&lt;script nonce=\"yc0odXFUopPfI6OrCtpwBg\"...</td>\n",
       "      <td>NaN</td>\n",
       "      <td>NaN</td>\n",
       "      <td>NaN</td>\n",
       "      <td>NaN</td>\n",
       "    </tr>\n",
       "  </tbody>\n",
       "</table>\n",
       "</div>"
      ],
      "text/plain": [
       "  <!DOCTYPE html><html><head><title>Google Drive - Virus scan warning</title><meta http-equiv=\"content-type\" content=\"text/html; charset=utf-8\"/><link href=&#47;static&#47;doclist&#47;client&#47;css&#47;2989729367&#45;untrustedcontent.css rel=\"stylesheet\" nonce=\"ipAnyhpeZlKX6k4A7E9L0g\"><link rel=\"icon\" href=\"//ssl.gstatic.com/images/branding/product/1x/drive_2020q4_32dp.png\"/><style nonce=\"ipAnyhpeZlKX6k4A7E9L0g\">#gbar  \\\n",
       "0  </style><script nonce=\"yc0odXFUopPfI6OrCtpwBg\"...                                                                                                                                                                                                                                                                                                                                                                                     \n",
       "\n",
       "   #guser{font-size:13px;padding-top:0px !important;}#gbar{height:22px}#guser{padding-bottom:7px !important;text-align:right}.gbh  \\\n",
       "0                                                NaN                                                                                \n",
       "\n",
       "   .gbd{border-top:1px solid #c9d7f1;font-size:1px}.gbh{height:0;position:absolute;top:24px;width:100%}@media all{.gb1{height:22px;margin-right:.5em;vertical-align:top}#gbar{float:left}}a.gb1  \\\n",
       "0                                                NaN                                                                                                                                              \n",
       "\n",
       "   a.gb4{text-decoration:underline !important}a.gb1  \\\n",
       "0                                               NaN   \n",
       "\n",
       "   a.gb4{color:#00c !important}.gbi .gb4{color:#dd8e27 !important}.gbf .gb4{color:#900 !important}  \n",
       "0                                                NaN                                                "
      ]
     },
     "execution_count": 5,
     "metadata": {},
     "output_type": "execute_result"
    }
   ],
   "source": [
    "df"
   ]
  }
 ],
 "metadata": {
  "kernelspec": {
   "display_name": "Python 3 (ipykernel)",
   "language": "python",
   "name": "python3"
  },
  "language_info": {
   "codemirror_mode": {
    "name": "ipython",
    "version": 3
   },
   "file_extension": ".py",
   "mimetype": "text/x-python",
   "name": "python",
   "nbconvert_exporter": "python",
   "pygments_lexer": "ipython3",
   "version": "3.8.8"
  }
 },
 "nbformat": 4,
 "nbformat_minor": 5
}
