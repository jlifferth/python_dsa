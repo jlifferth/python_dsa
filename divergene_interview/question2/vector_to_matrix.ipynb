{
 "cells": [
  {
   "cell_type": "code",
   "execution_count": 16,
   "id": "191f40d8",
   "metadata": {},
   "outputs": [],
   "source": [
    "import numpy as np"
   ]
  },
  {
   "cell_type": "code",
   "execution_count": 29,
   "id": "f026ef30",
   "metadata": {},
   "outputs": [
    {
     "data": {
      "text/plain": [
       "[[1, 2, 3], [3, 2], [2, 2, 2, 1, 2], [3, 1]]"
      ]
     },
     "execution_count": 29,
     "metadata": {},
     "output_type": "execute_result"
    }
   ],
   "source": [
    "# make list of variable-length sequences\n",
    "_1 = [1,2,3]\n",
    "_2 = [3,2]\n",
    "_3 = [2,2,2,1,2]\n",
    "_4 = [3,1]\n",
    "\n",
    "seqs0 = [_1, _2, _3, _4]\n",
    "seqs0"
   ]
  },
  {
   "cell_type": "code",
   "execution_count": 35,
   "id": "47b250c8",
   "metadata": {},
   "outputs": [
    {
     "data": {
      "text/plain": [
       "5"
      ]
     },
     "execution_count": 35,
     "metadata": {},
     "output_type": "execute_result"
    }
   ],
   "source": [
    "# find longest seq\n",
    "_max_len0 = len(max(seqs0, key=len))\n",
    "_max_len0"
   ]
  },
  {
   "cell_type": "code",
   "execution_count": 36,
   "id": "52d26861",
   "metadata": {},
   "outputs": [],
   "source": [
    "# pad seqs\n",
    "def pad0(x, _max_len0):\n",
    "    return x + [0] * (_max_len0 - len(x))"
   ]
  },
  {
   "cell_type": "code",
   "execution_count": 38,
   "id": "e0354155",
   "metadata": {},
   "outputs": [
    {
     "data": {
      "text/plain": [
       "[[1, 2, 3, 0, 0], [3, 2, 0, 0, 0], [2, 2, 2, 1, 2], [3, 1, 0, 0, 0]]"
      ]
     },
     "execution_count": 38,
     "metadata": {},
     "output_type": "execute_result"
    }
   ],
   "source": [
    "padded_seqs0 = [pad0(x, _max_len0) for x in seqs0]\n",
    "padded_seqs0"
   ]
  },
  {
   "cell_type": "code",
   "execution_count": 41,
   "id": "43038129",
   "metadata": {},
   "outputs": [
    {
     "data": {
      "text/plain": [
       "array([[1, 2, 3, 0, 0],\n",
       "       [3, 2, 0, 0, 0],\n",
       "       [2, 2, 2, 1, 2],\n",
       "       [3, 1, 0, 0, 0]])"
      ]
     },
     "execution_count": 41,
     "metadata": {},
     "output_type": "execute_result"
    }
   ],
   "source": [
    "# build np matrix\n",
    "matrix0 = np.asarray(padded_seqs0)\n",
    "matrix0"
   ]
  },
  {
   "cell_type": "code",
   "execution_count": 42,
   "id": "d69b9465",
   "metadata": {},
   "outputs": [
    {
     "data": {
      "text/plain": [
       "(4, 5)"
      ]
     },
     "execution_count": 42,
     "metadata": {},
     "output_type": "execute_result"
    }
   ],
   "source": [
    "matrix0.shape"
   ]
  },
  {
   "cell_type": "code",
   "execution_count": 22,
   "id": "6f774ffe",
   "metadata": {},
   "outputs": [
    {
     "data": {
      "text/plain": [
       "['GGCCGTTACACTG', 'AGCCGTT', 'ATTGTCCGTA', 'TATACCGT']"
      ]
     },
     "execution_count": 22,
     "metadata": {},
     "output_type": "execute_result"
    }
   ],
   "source": [
    "# repeat process but with str DNA seqs\n",
    "_1 = 'GGCCGTTACACTG'\n",
    "_2 = 'AGCCGTT'\n",
    "_3 = 'ATTGTCCGTA'\n",
    "_4 = 'TATACCGT'\n",
    "\n",
    "seqs = [_1, _2, _3, _4]\n",
    "seqs"
   ]
  },
  {
   "cell_type": "code",
   "execution_count": 23,
   "id": "60b979e2",
   "metadata": {},
   "outputs": [
    {
     "data": {
      "text/plain": [
       "13"
      ]
     },
     "execution_count": 23,
     "metadata": {},
     "output_type": "execute_result"
    }
   ],
   "source": [
    "# find longest seq\n",
    "_max_len = len(max(seqs, key=len))\n",
    "_max_len"
   ]
  },
  {
   "cell_type": "code",
   "execution_count": 24,
   "id": "bfacd703",
   "metadata": {},
   "outputs": [],
   "source": [
    "# pad seqs strings\n",
    "def pad(x, _max_len):\n",
    "    return x + '0' * (_max_len - len(x))"
   ]
  },
  {
   "cell_type": "code",
   "execution_count": 25,
   "id": "3887bf21",
   "metadata": {},
   "outputs": [
    {
     "data": {
      "text/plain": [
       "['GGCCGTTACACTG', 'AGCCGTT000000', 'ATTGTCCGTA000', 'TATACCGT00000']"
      ]
     },
     "execution_count": 25,
     "metadata": {},
     "output_type": "execute_result"
    }
   ],
   "source": [
    "padded_seqs = [pad(x, _max_len) for x in seqs]\n",
    "padded_seqs"
   ]
  },
  {
   "cell_type": "code",
   "execution_count": 26,
   "id": "e5dcf9e8",
   "metadata": {},
   "outputs": [
    {
     "data": {
      "text/plain": [
       "array(['GGCCGTTACACTG', 'AGCCGTT000000', 'ATTGTCCGTA000', 'TATACCGT00000'],\n",
       "      dtype='<U13')"
      ]
     },
     "execution_count": 26,
     "metadata": {},
     "output_type": "execute_result"
    }
   ],
   "source": [
    "# build np matrix\n",
    "matrix = np.asarray(padded_seqs)\n",
    "matrix"
   ]
  },
  {
   "cell_type": "code",
   "execution_count": 27,
   "id": "8cbf81cf",
   "metadata": {
    "scrolled": true
   },
   "outputs": [
    {
     "data": {
      "text/plain": [
       "(4,)"
      ]
     },
     "execution_count": 27,
     "metadata": {},
     "output_type": "execute_result"
    }
   ],
   "source": [
    "matrix.shape"
   ]
  }
 ],
 "metadata": {
  "kernelspec": {
   "display_name": "Python 3 (ipykernel)",
   "language": "python",
   "name": "python3"
  },
  "language_info": {
   "codemirror_mode": {
    "name": "ipython",
    "version": 3
   },
   "file_extension": ".py",
   "mimetype": "text/x-python",
   "name": "python",
   "nbconvert_exporter": "python",
   "pygments_lexer": "ipython3",
   "version": "3.8.8"
  }
 },
 "nbformat": 4,
 "nbformat_minor": 5
}
