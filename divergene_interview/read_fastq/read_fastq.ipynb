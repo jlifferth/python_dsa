{
 "cells": [
  {
   "cell_type": "code",
   "execution_count": 11,
   "id": "67f8f0c9",
   "metadata": {},
   "outputs": [],
   "source": [
    "import gzip\n",
    "from mimetypes import guess_type\n",
    "from functools import partial\n",
    "from Bio import SeqIO"
   ]
  },
  {
   "cell_type": "code",
   "execution_count": 5,
   "id": "373a0936",
   "metadata": {},
   "outputs": [],
   "source": [
    "def count_nucleotides(sequence_in):\n",
    "    sequence_in = sequence_in.upper()\n",
    "    A = \"A : \" + str(sequence_in.count('A'))\n",
    "    G = \"G : \" + str(sequence_in.count('G'))\n",
    "    T = \"T : \" + str(sequence_in.count('T'))\n",
    "    C = \"C : \" + str(sequence_in.count('C'))\n",
    "    N = \"N : \" + str(sequence_in.count('N'))\n",
    "    return A, G, T, C, N"
   ]
  },
  {
   "cell_type": "code",
   "execution_count": 9,
   "id": "7976d4d3",
   "metadata": {},
   "outputs": [
    {
     "name": "stdout",
     "output_type": "stream",
     "text": [
      "173019\n"
     ]
    }
   ],
   "source": [
    "input_file = '/Users/jonathanlifferth/data/bioinformatics/Divergene/question2/liver cDNA/1153-cDNA-8V8_S30_L001_R1_001.fastq.gz'\n",
    "\n",
    "encoding = guess_type(input_file)[1]  # uses file extension\n",
    "_open = partial(gzip.open, mode='rt') if encoding == 'gzip' else open\n",
    "\n",
    "read_count = 0\n",
    "with _open(input_file) as f:\n",
    "    for record in SeqIO.parse(f, 'fastq'):\n",
    "#        print(record.seq)\n",
    "#        print(count_nucleotides(record.seq))\n",
    "        read_count += 1\n",
    "\n",
    "print(read_count)"
   ]
  },
  {
   "cell_type": "code",
   "execution_count": 10,
   "id": "336337da",
   "metadata": {},
   "outputs": [
    {
     "name": "stdout",
     "output_type": "stream",
     "text": [
      "ID: M06176:70:000000000-JW4VC:1:1101:8803:1076\n",
      "Name: M06176:70:000000000-JW4VC:1:1101:8803:1076\n",
      "Description: M06176:70:000000000-JW4VC:1:1101:8803:1076 1:N:0:NCGGTCCAAC+NCTTACATCA\n",
      "Number of features: 0\n",
      "Per letter annotation for: phred_quality\n",
      "Seq('TAACCCTGTGGCTACAGAGGAATACGGTATCGTGGCAGATAACTTGCAGCAGCA...CGG')\n",
      "TAACCCTGTGGCTACAGAGGAATACGGTATCGTGGCAGATAACTTGCAGCAGCAAGGCAAATCTGNTNGTNNTACTCTGNNNNNCNCGGCTCCTNAAANTGGAACTGNNAACAGCCAGGGGGCCTTACCCGGTATGGTCTGGCAGAACCGG\n"
     ]
    }
   ],
   "source": [
    "with _open(input_file) as f:\n",
    "    for record in SeqIO.parse(f, 'fastq'):\n",
    "        print(record)\n",
    "        print(record.seq)\n",
    "        break"
   ]
  }
 ],
 "metadata": {
  "kernelspec": {
   "display_name": "Python 3 (ipykernel)",
   "language": "python",
   "name": "python3"
  },
  "language_info": {
   "codemirror_mode": {
    "name": "ipython",
    "version": 3
   },
   "file_extension": ".py",
   "mimetype": "text/x-python",
   "name": "python",
   "nbconvert_exporter": "python",
   "pygments_lexer": "ipython3",
   "version": "3.8.8"
  }
 },
 "nbformat": 4,
 "nbformat_minor": 5
}
